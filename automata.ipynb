{
 "cells": [
  {
   "cell_type": "code",
   "execution_count": 1,
   "id": "26c25a5a-a1aa-49e1-8ed1-adc515bd0a67",
   "metadata": {},
   "outputs": [
    {
     "name": "stdin",
     "output_type": "stream",
     "text": [
      "Ingrese una cadena binaria:  100\n"
     ]
    },
    {
     "name": "stdout",
     "output_type": "stream",
     "text": [
      "La cadena NO es divisible por 3.\n"
     ]
    }
   ],
   "source": [
    "def automata_modulo_tres(input_string):\n",
    "    # Definir los estados y transiciones del AFD\n",
    "    estados = {'q0', 'q1', 'q2'}\n",
    "    estado_inicial = 'q0'\n",
    "    estados_finales = {'q0'}\n",
    "\n",
    "    transiciones = {\n",
    "        'q0': {'0': 'q0', '1': 'q1'},\n",
    "        'q1': {'0': 'q2', '1': 'q0'},\n",
    "        'q2': {'0': 'q1', '1': 'q2'}\n",
    "    }\n",
    "\n",
    "    # Inicializar el estado actual al estado inicial\n",
    "    estado_actual = estado_inicial\n",
    "\n",
    "    # Procesar la cadena de entrada\n",
    "    for simbolo in input_string:\n",
    "        if simbolo not in transiciones[estado_actual]:\n",
    "            return False  # La entrada no es válida para el AFD\n",
    "        estado_actual = transiciones[estado_actual][simbolo]\n",
    "\n",
    "    # Verificar si el estado actual es un estado final\n",
    "    return estado_actual in estados_finales\n",
    "\n",
    "# Ejemplo de uso\n",
    "cadena = input(\"Ingrese una cadena binaria: \")\n",
    "if automata_modulo_tres(cadena):\n",
    "    print(\"La cadena es divisible por 3.\")\n",
    "else:\n",
    "    print(\"La cadena NO es divisible por 3.\")\n"
   ]
  },
  {
   "cell_type": "code",
   "execution_count": null,
   "id": "a09cac72-4323-446e-8520-d5ba9945041a",
   "metadata": {},
   "outputs": [],
   "source": []
  }
 ],
 "metadata": {
  "kernelspec": {
   "display_name": "Python 3 (ipykernel)",
   "language": "python",
   "name": "python3"
  },
  "language_info": {
   "codemirror_mode": {
    "name": "ipython",
    "version": 3
   },
   "file_extension": ".py",
   "mimetype": "text/x-python",
   "name": "python",
   "nbconvert_exporter": "python",
   "pygments_lexer": "ipython3",
   "version": "3.10.0"
  }
 },
 "nbformat": 4,
 "nbformat_minor": 5
}
